{
  "nbformat": 4,
  "nbformat_minor": 0,
  "metadata": {
    "colab": {
      "provenance": [],
      "authorship_tag": "ABX9TyMvsHjzZ5rZqlMFlZUISTR4",
      "include_colab_link": true
    },
    "kernelspec": {
      "name": "python3",
      "display_name": "Python 3"
    },
    "language_info": {
      "name": "python"
    }
  },
  "cells": [
    {
      "cell_type": "markdown",
      "metadata": {
        "id": "view-in-github",
        "colab_type": "text"
      },
      "source": [
        "<a href=\"https://colab.research.google.com/github/WenxuanChen1/html-portfolio/blob/main/412AssignmentII.ipynb\" target=\"_parent\"><img src=\"https://colab.research.google.com/assets/colab-badge.svg\" alt=\"Open In Colab\"/></a>"
      ]
    },
    {
      "cell_type": "code",
      "execution_count": 38,
      "metadata": {
        "colab": {
          "base_uri": "https://localhost:8080/"
        },
        "id": "Wjv8XciTNcm9",
        "outputId": "3dacbe36-f2b8-4108-843a-5a23eda27cf2"
      },
      "outputs": [
        {
          "output_type": "stream",
          "name": "stdout",
          "text": [
            "          0     1     2     3     4\n",
            "0      0.58  0.33  0.05  0.34  0.04\n",
            "1      0.68  0.59  0.73  0.87  0.32\n",
            "2      0.75  0.74  0.56  0.06  0.86\n",
            "3      0.55  0.47  0.85  0.12  0.03\n",
            "4      0.67  0.72  0.53  0.56  0.77\n",
            "...     ...   ...   ...   ...   ...\n",
            "10995  0.00  0.63  0.14  0.88  0.75\n",
            "10996  0.02  0.30  0.54  0.11  0.26\n",
            "10997  0.34  0.58  0.37  0.97  0.09\n",
            "10998  0.91  0.27  0.58  0.50  0.35\n",
            "10999  0.19  0.65  0.31  0.98  0.36\n",
            "\n",
            "[11000 rows x 5 columns]\n",
            "0        1\n",
            "1        1\n",
            "2        1\n",
            "3        0\n",
            "4        0\n",
            "        ..\n",
            "10995    1\n",
            "10996    1\n",
            "10997    0\n",
            "10998    0\n",
            "10999    0\n",
            "Name: 5, Length: 11000, dtype: int64\n",
            "Linear Regression CV scores: [0.03734036 0.0518092  0.02715185 0.01341041 0.02935852 0.01782373\n",
            " 0.03098573 0.04406657 0.0568479  0.03355529]\n",
            "Logistic Regression CV scores: [0.64086409 0.65027322 0.64568345 0.62068966 0.66548358 0.64120782\n",
            " 0.66257669 0.67030965 0.68435013 0.65920826]\n",
            "Random Forest CV scores: [0.88331726 0.89056604 0.86429259 0.86615679 0.88931298 0.88157895\n",
            " 0.88784166 0.87977099 0.88235294 0.86647454]\n"
          ]
        }
      ],
      "source": [
        "import pandas as pd\n",
        "from sklearn.model_selection import train_test_split, cross_val_score, GridSearchCV\n",
        "from sklearn.linear_model import LinearRegression, LogisticRegression\n",
        "from sklearn.ensemble import RandomForestClassifier\n",
        "\n",
        "a2 = pd.read_csv(\"a2.csv.txt\",header=None)\n",
        "X = a2.iloc[:, :-1]\n",
        "y = a2.iloc[:, -1]\n",
        "X_train, X_test, y_train, y_test = train_test_split(X, y, test_size=1000, random_state=42)\n",
        "print(X)\n",
        "print(y)\n",
        "\n",
        "linear_model = LinearRegression()\n",
        "logistic_model = LogisticRegression()\n",
        "rf_model = RandomForestClassifier()\n",
        "\n",
        "linear_cv_scores = cross_val_score(linear_model, X_train, y_train, cv=10, scoring='r2')\n",
        "logistic_cv_scores = cross_val_score(logistic_model, X_train, y_train, cv=10, scoring='f1')\n",
        "rf_cv_scores = cross_val_score(rf_model, X_train, y_train, cv=10, scoring='f1')\n",
        "print(\"Linear Regression CV scores:\", linear_cv_scores)\n",
        "print(\"Logistic Regression CV scores:\", logistic_cv_scores)\n",
        "print(\"Random Forest CV scores:\", rf_cv_scores)\n",
        "\n",
        "\n"
      ]
    },
    {
      "cell_type": "code",
      "source": [
        "param_grid = {\n",
        "    'n_estimators': [50, 100, 200],\n",
        "    'max_depth': [None, 10, 20],\n",
        "    'min_samples_split': [2, 10, 20]\n",
        "}\n",
        "\n",
        "rf_grid_search = GridSearchCV(estimator=rf_model, param_grid=param_grid, cv=10, scoring='f1')\n",
        "rf_grid_search.fit(X_train, y_train)\n",
        "\n",
        "print(\"Best parameters for Random Forest:\", rf_grid_search.best_params_)\n"
      ],
      "metadata": {
        "colab": {
          "base_uri": "https://localhost:8080/"
        },
        "id": "_J6kE4q-eU9P",
        "outputId": "cb43fd22-181a-45b9-f73d-13c4becff624"
      },
      "execution_count": 31,
      "outputs": [
        {
          "output_type": "stream",
          "name": "stdout",
          "text": [
            "Best parameters for Random Forest: {'max_depth': 20, 'min_samples_split': 2, 'n_estimators': 200}\n"
          ]
        }
      ]
    },
    {
      "cell_type": "code",
      "source": [
        "from sklearn.metrics import accuracy_score\n",
        "best_rf_model = rf_grid_search.best_estimator_\n",
        "y_pred = best_rf_model.predict(X_test)\n",
        "test_accuracy = accuracy_score(y_test, y_pred)\n",
        "print(\"Test Accuracy:\", test_accuracy)"
      ],
      "metadata": {
        "colab": {
          "base_uri": "https://localhost:8080/"
        },
        "id": "ej1Wqw1fgsPp",
        "outputId": "ab835c62-fca6-4046-c98e-6ad8917fc241"
      },
      "execution_count": 32,
      "outputs": [
        {
          "output_type": "stream",
          "name": "stdout",
          "text": [
            "Test Accuracy: 0.878\n"
          ]
        }
      ]
    },
    {
      "cell_type": "code",
      "source": [
        "from sklearn.tree import DecisionTreeRegressor\n",
        "tr_model = DecisionTreeRegressor()\n",
        "tr_cv_score = cross_val_score(tr_model, X_train, y_train, cv=10, scoring='f1')\n",
        "print(tr_cv_score)\n"
      ],
      "metadata": {
        "colab": {
          "base_uri": "https://localhost:8080/"
        },
        "id": "pstGsAQnl37n",
        "outputId": "bf0bbceb-a245-4b93-fff0-d2b8bb99bdcd"
      },
      "execution_count": 37,
      "outputs": [
        {
          "output_type": "stream",
          "name": "stdout",
          "text": [
            "[0.81316554 0.80974695 0.8173913  0.80434783 0.82013048 0.80434783\n",
            " 0.78721279 0.81902985 0.79885605 0.78862559]\n"
          ]
        }
      ]
    }
  ]
}